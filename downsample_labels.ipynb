{
 "cells": [
  {
   "cell_type": "code",
   "execution_count": 20,
   "metadata": {
    "collapsed": true
   },
   "outputs": [],
   "source": [
    "import numpy as np\n",
    "from numba import jit\n",
    "from skimage.util import view_as_blocks\n",
    "\n",
    "def downsample_labels_nd(a, factor):\n",
    "    \"\"\"\n",
    "    Downsample the given ND array by binning the pixels into bins\n",
    "    sized according to the downsampling 'factor'.\n",
    "    \n",
    "    Each bin is reduced to one pixel in the output array, whose value\n",
    "    is the most common element from the bin.\n",
    "\n",
    "    The blockshape can be given by 'factor', which must be either an int or tuple.\n",
    "    If factor is tuple, it defines the blockshape.\n",
    "    If factor is an int, then the blockshape will be square (or cubic, etc.)\n",
    "    \"\"\"\n",
    "    @jit(nopython=True)\n",
    "    def _flat_mode_destructive(data):\n",
    "        \"\"\"\n",
    "        Given a flat array, return the mode.\n",
    "        Beware: Overwrites flat_data.\n",
    "        \n",
    "        Note: We could have used scipy.stats.mode() here,\n",
    "              but that implementation is insanely slow for large arrays,\n",
    "              especially if there are many label values in the array.\n",
    "        \"\"\"\n",
    "        data.sort()\n",
    "        diff = np.diff(data)\n",
    "        diff_bool = np.ones((len(diff)+2,), dtype=np.uint8)\n",
    "        diff_bool[1:-1] = (diff != 0)\n",
    "    \n",
    "        diff_nonzero = diff_bool.nonzero()[0]\n",
    "        run_lengths = diff_nonzero[1:] - diff_nonzero[:-1]\n",
    "        max_run = np.argmax(run_lengths)\n",
    "        return data[diff_nonzero[max_run]]\n",
    "    \n",
    "    @jit(nopython=True)\n",
    "    def _blockwise_modes(data, output_shape):\n",
    "        \"\"\"\n",
    "        Given an array of shape = output_shape + block_shape,\n",
    "        compute the mode of each block.\n",
    "        \"\"\"\n",
    "        assert len(output_shape) == len(data.shape) / 2\n",
    "        \n",
    "        # This assertion not allowed in nopython mode, but it's correct.\n",
    "        #assert output_shape == data.shape[:len(data.shape)] \n",
    "        \n",
    "        modes = np.zeros(output_shape, data.dtype)\n",
    "        for block_index in np.ndindex(output_shape):\n",
    "            flat_block_data = data[block_index].copy().reshape(-1)\n",
    "            modes[block_index] = _flat_mode_destructive(flat_block_data)\n",
    "        return modes\n",
    "\n",
    "    # If the factor is an int, convert it to a blockshape.\n",
    "    if np.issubdtype(type(factor), np.integer):\n",
    "        blockshape = (factor,)*a.ndim\n",
    "    else:\n",
    "        blockshape = factor\n",
    "\n",
    "    assert not (np.array(a.shape) % blockshape).any(), \\\n",
    "        \"Downsampling factor must divide cleanly into array shape\"\n",
    "\n",
    "    v = view_as_blocks(a, blockshape)\n",
    "    return _blockwise_modes(v, v.shape[:a.ndim])\n"
   ]
  },
  {
   "cell_type": "code",
   "execution_count": 21,
   "metadata": {
    "collapsed": false
   },
   "outputs": [
    {
     "name": "stdout",
     "output_type": "stream",
     "text": [
      "[[1 1 2 3 0 0 2 3 3 3 3 1 2 1 2 1]\n",
      " [3 1 2 2 1 1 1 3 0 1 0 3 2 3 0 0]\n",
      " [0 1 1 0 2 1 2 1 2 3 1 0 1 0 2 3]\n",
      " [2 2 3 2 1 1 1 3 0 2 0 1 1 1 0 3]\n",
      " [1 1 1 0 0 0 1 3 1 3 1 1 1 0 3 0]\n",
      " [2 0 1 1 1 1 1 1 0 0 3 1 0 0 2 2]\n",
      " [0 0 1 0 2 3 3 3 1 3 3 1 1 0 1 0]\n",
      " [2 0 3 0 3 3 3 1 2 1 1 3 3 1 2 1]\n",
      " [2 1 0 0 0 1 2 0 0 2 1 0 3 2 3 2]\n",
      " [3 3 2 2 3 0 1 0 0 1 3 1 1 1 3 1]\n",
      " [1 2 3 0 2 2 1 1 3 2 0 3 1 1 0 2]\n",
      " [1 0 3 3 3 3 1 3 1 0 3 3 2 0 2 0]\n",
      " [0 1 1 1 3 1 0 3 2 2 3 2 1 2 3 2]\n",
      " [2 1 0 1 3 3 0 3 1 1 3 3 2 1 3 3]\n",
      " [2 2 2 2 2 1 1 1 0 1 1 2 2 2 0 1]\n",
      " [1 2 2 2 2 2 2 1 0 2 1 0 0 0 3 2]]\n"
     ]
    }
   ],
   "source": [
    "a = np.random.randint(0,4, (16,16))\n",
    "print a"
   ]
  },
  {
   "cell_type": "code",
   "execution_count": 22,
   "metadata": {
    "collapsed": false
   },
   "outputs": [
    {
     "name": "stdout",
     "output_type": "stream",
     "text": [
      "[[1 2 0 3 3 3 2 0]\n",
      " [2 0 1 1 2 0 1 3]\n",
      " [1 1 0 1 0 1 0 2]\n",
      " [0 0 3 3 1 1 1 1]\n",
      " [3 0 0 0 0 1 1 3]\n",
      " [1 3 2 1 0 3 1 0]\n",
      " [1 1 3 0 1 3 1 3]\n",
      " [2 2 2 1 0 1 0 0]]\n"
     ]
    }
   ],
   "source": [
    "print downsample_labels_nd(a, 2)"
   ]
  },
  {
   "cell_type": "code",
   "execution_count": 23,
   "metadata": {
    "collapsed": false
   },
   "outputs": [
    {
     "name": "stdout",
     "output_type": "stream",
     "text": [
      "[[1 1 3 3 1 2 0 3]\n",
      " [0 1 1 2 0 0 1 0]\n",
      " [1 2 1 2 0 2 3 0]\n",
      " [3 0 2 2 0 1 0 3]\n",
      " [2 2 3 2 3 2 1 0]\n",
      " [3 3 3 0 2 0 2 2]]\n"
     ]
    }
   ],
   "source": [
    "a = np.random.randint(0,4, (6,8)).view(np.uint64)\n",
    "print a"
   ]
  },
  {
   "cell_type": "code",
   "execution_count": 24,
   "metadata": {
    "collapsed": false
   },
   "outputs": [
    {
     "name": "stdout",
     "output_type": "stream",
     "text": [
      "[[1 0]\n",
      " [2 0]]\n"
     ]
    }
   ],
   "source": [
    "print downsample_labels_nd(a, (3,4))"
   ]
  },
  {
   "cell_type": "code",
   "execution_count": 25,
   "metadata": {
    "collapsed": false
   },
   "outputs": [
    {
     "name": "stdout",
     "output_type": "stream",
     "text": [
      "[[[0 0 2 1 0 2 3 2]\n",
      "  [0 0 0 3 1 3 2 3]\n",
      "  [3 0 1 1 2 2 2 3]\n",
      "  [2 0 1 3 0 2 3 3]\n",
      "  [1 1 0 3 3 2 0 3]\n",
      "  [1 3 1 2 0 2 0 2]]\n",
      "\n",
      " [[0 1 1 2 2 1 1 3]\n",
      "  [0 1 1 0 0 3 1 0]\n",
      "  [2 0 2 1 1 1 3 3]\n",
      "  [0 2 1 3 0 1 1 2]\n",
      "  [3 0 2 3 1 3 0 0]\n",
      "  [1 3 3 0 3 0 0 1]]\n",
      "\n",
      " [[1 3 3 2 2 3 3 1]\n",
      "  [3 3 0 2 1 0 1 2]\n",
      "  [3 0 2 0 0 0 1 3]\n",
      "  [2 3 2 3 1 0 0 0]\n",
      "  [0 0 3 1 3 0 3 2]\n",
      "  [0 2 3 1 1 1 1 0]]\n",
      "\n",
      " [[3 2 0 3 2 3 3 0]\n",
      "  [1 2 0 0 2 1 2 1]\n",
      "  [0 2 2 2 1 3 2 3]\n",
      "  [0 1 3 1 2 3 3 2]\n",
      "  [3 3 0 3 3 0 0 1]\n",
      "  [3 2 0 3 2 2 2 2]]]\n"
     ]
    }
   ],
   "source": [
    "a = np.random.randint(0,4, (4,6,8)).view(np.uint64)\n",
    "print a"
   ]
  },
  {
   "cell_type": "code",
   "execution_count": 26,
   "metadata": {
    "collapsed": false
   },
   "outputs": [
    {
     "name": "stdout",
     "output_type": "stream",
     "text": [
      "[[[0 3]\n",
      "  [3 0]]\n",
      "\n",
      " [[2 1]\n",
      "  [3 0]]]\n"
     ]
    }
   ],
   "source": [
    "print downsample_labels_nd(a, (2,3,4))"
   ]
  }
 ],
 "metadata": {
  "kernelspec": {
   "display_name": "Python 2",
   "language": "python",
   "name": "python2"
  },
  "language_info": {
   "codemirror_mode": {
    "name": "ipython",
    "version": 2
   },
   "file_extension": ".py",
   "mimetype": "text/x-python",
   "name": "python",
   "nbconvert_exporter": "python",
   "pygments_lexer": "ipython2",
   "version": "2.7.12"
  }
 },
 "nbformat": 4,
 "nbformat_minor": 0
}
