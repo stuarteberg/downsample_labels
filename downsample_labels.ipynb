{
 "cells": [
  {
   "cell_type": "code",
   "execution_count": 1,
   "metadata": {
    "collapsed": true
   },
   "outputs": [],
   "source": [
    "from skimage.util import view_as_blocks\n",
    "import numpy as np\n",
    "import scipy.stats\n",
    "\n",
    "def downsample_labels(a, factor):\n",
    "    \"\"\"\n",
    "    Downsample the given ND array by binning the pixels into square bins\n",
    "    (or cubic bins, etc.) sized according to the downsampling 'factor'.\n",
    "\n",
    "    Each bin is reduced to one pixel in the output array, whose value\n",
    "    is the most common element from the bin.\n",
    "    \"\"\"\n",
    "    assert not (np.array(a.shape) % factor).any(), \\\n",
    "        \"Downsampling factor must divide cleanly into array shape\"\n",
    "    v = view_as_blocks(a, (factor,)*a.ndim)\n",
    "    v = v.reshape( v.shape[:a.ndim] + (factor**a.ndim,) )\n",
    "    modes, _counts = scipy.stats.mode(v, axis=-1)\n",
    "    return modes[...,0]"
   ]
  },
  {
   "cell_type": "code",
   "execution_count": 2,
   "metadata": {
    "collapsed": false
   },
   "outputs": [
    {
     "name": "stdout",
     "output_type": "stream",
     "text": [
      "[[2 0 3 1 3 1 2 0 3 1 3 3 2 0 0 0]\n",
      " [2 2 3 3 1 3 1 0 2 3 1 3 3 3 2 3]\n",
      " [1 1 1 0 2 3 0 0 0 1 3 1 1 0 0 1]\n",
      " [0 3 0 3 1 1 1 0 2 0 0 2 2 1 1 1]\n",
      " [2 2 1 1 2 2 1 1 2 0 1 2 3 3 2 0]\n",
      " [0 0 3 1 0 2 1 3 2 2 2 2 1 3 0 3]\n",
      " [3 2 0 2 1 1 2 3 3 3 0 0 0 1 0 1]\n",
      " [1 2 0 0 2 0 3 0 1 0 3 1 0 3 1 2]\n",
      " [0 2 0 1 2 2 3 3 3 0 1 3 2 3 1 1]\n",
      " [3 1 3 1 1 1 1 3 3 2 3 1 1 3 1 1]\n",
      " [1 2 0 1 0 0 3 1 3 3 3 2 1 2 3 3]\n",
      " [0 1 2 2 0 3 2 0 0 3 0 0 1 1 2 1]\n",
      " [1 2 1 1 3 0 0 3 3 3 3 0 2 1 3 0]\n",
      " [0 0 2 2 0 0 0 0 1 2 2 0 1 2 2 3]\n",
      " [2 0 2 0 0 0 3 0 3 0 2 0 0 2 1 1]\n",
      " [2 2 3 1 1 3 3 0 0 0 3 2 1 3 2 1]]\n"
     ]
    }
   ],
   "source": [
    "a = np.random.randint(0,4, (16,16))\n",
    "print a"
   ]
  },
  {
   "cell_type": "code",
   "execution_count": 3,
   "metadata": {
    "collapsed": false
   },
   "outputs": [
    {
     "name": "stdout",
     "output_type": "stream",
     "text": [
      "[[2 3 1 0 3 3 3 0]\n",
      " [1 0 1 0 0 0 1 1]\n",
      " [0 1 2 1 2 2 3 0]\n",
      " [2 0 1 3 3 0 0 1]\n",
      " [0 1 1 3 3 1 3 1]\n",
      " [1 2 0 0 3 0 1 3]\n",
      " [0 1 0 0 3 0 1 3]\n",
      " [2 0 0 0 0 2 0 1]]\n"
     ]
    }
   ],
   "source": [
    "print downsample_labels(a, 2)"
   ]
  },
  {
   "cell_type": "code",
   "execution_count": null,
   "metadata": {
    "collapsed": true
   },
   "outputs": [],
   "source": []
  }
 ],
 "metadata": {
  "kernelspec": {
   "display_name": "Python 2",
   "language": "python",
   "name": "python2"
  },
  "language_info": {
   "codemirror_mode": {
    "name": "ipython",
    "version": 2
   },
   "file_extension": ".py",
   "mimetype": "text/x-python",
   "name": "python",
   "nbconvert_exporter": "python",
   "pygments_lexer": "ipython2",
   "version": "2.7.9"
  }
 },
 "nbformat": 4,
 "nbformat_minor": 0
}
